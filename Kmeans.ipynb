{
  "nbformat": 4,
  "nbformat_minor": 0,
  "metadata": {
    "colab": {
      "name": "Kmeans_mlt_lab.ipynb",
      "provenance": [],
      "collapsed_sections": [],
      "authorship_tag": "ABX9TyPj8Fzt1+AEOriYJPgI9tva",
      "include_colab_link": true
    },
    "kernelspec": {
      "name": "python3",
      "display_name": "Python 3"
    },
    "language_info": {
      "name": "python"
    }
  },
  "cells": [
    {
      "cell_type": "markdown",
      "metadata": {
        "id": "view-in-github",
        "colab_type": "text"
      },
      "source": [
        "<a href=\"https://colab.research.google.com/github/MadhuvanthiThanikachalam/Machine-learning/blob/main/Kmeans.ipynb\" target=\"_parent\"><img src=\"https://colab.research.google.com/assets/colab-badge.svg\" alt=\"Open In Colab\"/></a>"
      ]
    },
    {
      "cell_type": "code",
      "metadata": {
        "id": "CP3HjLYpAO4U"
      },
      "source": [
        "import pandas as pd\n",
        "import numpy as np\n",
        "from sklearn.cluster import KMeans\n"
      ],
      "execution_count": null,
      "outputs": []
    },
    {
      "cell_type": "code",
      "metadata": {
        "colab": {
          "base_uri": "https://localhost:8080/",
          "height": 511
        },
        "id": "h9nFj6bUEtrY",
        "outputId": "35f7fef5-1595-4349-b8b7-d709a32083b6"
      },
      "source": [
        "stars=pd.read_csv('/content/Stars.csv')\n",
        "stars\n"
      ],
      "execution_count": null,
      "outputs": [
        {
          "output_type": "execute_result",
          "data": {
            "text/html": [
              "<div>\n",
              "<style scoped>\n",
              "    .dataframe tbody tr th:only-of-type {\n",
              "        vertical-align: middle;\n",
              "    }\n",
              "\n",
              "    .dataframe tbody tr th {\n",
              "        vertical-align: top;\n",
              "    }\n",
              "\n",
              "    .dataframe thead th {\n",
              "        text-align: right;\n",
              "    }\n",
              "</style>\n",
              "<table border=\"1\" class=\"dataframe\">\n",
              "  <thead>\n",
              "    <tr style=\"text-align: right;\">\n",
              "      <th></th>\n",
              "      <th>Temperature (K)</th>\n",
              "      <th>Radius(R/Ro)</th>\n",
              "      <th>Luminosity(L/Lo)</th>\n",
              "      <th>Star type</th>\n",
              "    </tr>\n",
              "  </thead>\n",
              "  <tbody>\n",
              "    <tr>\n",
              "      <th>0</th>\n",
              "      <td>30</td>\n",
              "      <td>0.17</td>\n",
              "      <td>16.12</td>\n",
              "      <td>R/B Dwarf</td>\n",
              "    </tr>\n",
              "    <tr>\n",
              "      <th>1</th>\n",
              "      <td>42</td>\n",
              "      <td>0.15</td>\n",
              "      <td>16.60</td>\n",
              "      <td>SuperGiants</td>\n",
              "    </tr>\n",
              "    <tr>\n",
              "      <th>2</th>\n",
              "      <td>26</td>\n",
              "      <td>0.10</td>\n",
              "      <td>18.70</td>\n",
              "      <td>HyperGiants</td>\n",
              "    </tr>\n",
              "    <tr>\n",
              "      <th>3</th>\n",
              "      <td>28</td>\n",
              "      <td>0.16</td>\n",
              "      <td>16.65</td>\n",
              "      <td>R/B Dwarf</td>\n",
              "    </tr>\n",
              "    <tr>\n",
              "      <th>4</th>\n",
              "      <td>39</td>\n",
              "      <td>0.10</td>\n",
              "      <td>20.06</td>\n",
              "      <td>R/B Dwarf</td>\n",
              "    </tr>\n",
              "    <tr>\n",
              "      <th>5</th>\n",
              "      <td>40</td>\n",
              "      <td>0.11</td>\n",
              "      <td>16.98</td>\n",
              "      <td>R/B Dwarf</td>\n",
              "    </tr>\n",
              "    <tr>\n",
              "      <th>6</th>\n",
              "      <td>37</td>\n",
              "      <td>0.12</td>\n",
              "      <td>17.22</td>\n",
              "      <td>SuperGiants</td>\n",
              "    </tr>\n",
              "    <tr>\n",
              "      <th>7</th>\n",
              "      <td>27</td>\n",
              "      <td>0.09</td>\n",
              "      <td>17.40</td>\n",
              "      <td>SuperGiants</td>\n",
              "    </tr>\n",
              "    <tr>\n",
              "      <th>8</th>\n",
              "      <td>50</td>\n",
              "      <td>0.11</td>\n",
              "      <td>17.45</td>\n",
              "      <td>SuperGiants</td>\n",
              "    </tr>\n",
              "    <tr>\n",
              "      <th>9</th>\n",
              "      <td>45</td>\n",
              "      <td>0.13</td>\n",
              "      <td>16.05</td>\n",
              "      <td>HyperGiants</td>\n",
              "    </tr>\n",
              "    <tr>\n",
              "      <th>10</th>\n",
              "      <td>36</td>\n",
              "      <td>0.51</td>\n",
              "      <td>10.69</td>\n",
              "      <td>HyperGiants</td>\n",
              "    </tr>\n",
              "    <tr>\n",
              "      <th>11</th>\n",
              "      <td>31</td>\n",
              "      <td>0.37</td>\n",
              "      <td>11.79</td>\n",
              "      <td>HyperGiants</td>\n",
              "    </tr>\n",
              "    <tr>\n",
              "      <th>12</th>\n",
              "      <td>34</td>\n",
              "      <td>0.19</td>\n",
              "      <td>13.21</td>\n",
              "      <td>HyperGiants</td>\n",
              "    </tr>\n",
              "    <tr>\n",
              "      <th>13</th>\n",
              "      <td>32</td>\n",
              "      <td>0.39</td>\n",
              "      <td>10.48</td>\n",
              "      <td>SuperGiants</td>\n",
              "    </tr>\n",
              "    <tr>\n",
              "      <th>14</th>\n",
              "      <td>25</td>\n",
              "      <td>0.14</td>\n",
              "      <td>11.78</td>\n",
              "      <td>R/B Dwarf</td>\n",
              "    </tr>\n",
              "  </tbody>\n",
              "</table>\n",
              "</div>"
            ],
            "text/plain": [
              "    Temperature (K)  Radius(R/Ro)  Luminosity(L/Lo)    Star type\n",
              "0                30          0.17             16.12    R/B Dwarf\n",
              "1                42          0.15             16.60  SuperGiants\n",
              "2                26          0.10             18.70  HyperGiants\n",
              "3                28          0.16             16.65    R/B Dwarf\n",
              "4                39          0.10             20.06    R/B Dwarf\n",
              "5                40          0.11             16.98    R/B Dwarf\n",
              "6                37          0.12             17.22  SuperGiants\n",
              "7                27          0.09             17.40  SuperGiants\n",
              "8                50          0.11             17.45  SuperGiants\n",
              "9                45          0.13             16.05  HyperGiants\n",
              "10               36          0.51             10.69  HyperGiants\n",
              "11               31          0.37             11.79  HyperGiants\n",
              "12               34          0.19             13.21  HyperGiants\n",
              "13               32          0.39             10.48  SuperGiants\n",
              "14               25          0.14             11.78    R/B Dwarf"
            ]
          },
          "metadata": {
            "tags": []
          },
          "execution_count": 2
        }
      ]
    },
    {
      "cell_type": "code",
      "metadata": {
        "colab": {
          "base_uri": "https://localhost:8080/"
        },
        "id": "FUuYNUklEt24",
        "outputId": "72030cc2-8e81-4af0-9870-7ec87afa7538"
      },
      "source": [
        "X = stars.iloc[:,0:3].values\n",
        "X\n"
      ],
      "execution_count": null,
      "outputs": [
        {
          "output_type": "execute_result",
          "data": {
            "text/plain": [
              "array([[30.  ,  0.17, 16.12],\n",
              "       [42.  ,  0.15, 16.6 ],\n",
              "       [26.  ,  0.1 , 18.7 ],\n",
              "       [28.  ,  0.16, 16.65],\n",
              "       [39.  ,  0.1 , 20.06],\n",
              "       [40.  ,  0.11, 16.98],\n",
              "       [37.  ,  0.12, 17.22],\n",
              "       [27.  ,  0.09, 17.4 ],\n",
              "       [50.  ,  0.11, 17.45],\n",
              "       [45.  ,  0.13, 16.05],\n",
              "       [36.  ,  0.51, 10.69],\n",
              "       [31.  ,  0.37, 11.79],\n",
              "       [34.  ,  0.19, 13.21],\n",
              "       [32.  ,  0.39, 10.48],\n",
              "       [25.  ,  0.14, 11.78]])"
            ]
          },
          "metadata": {
            "tags": []
          },
          "execution_count": 3
        }
      ]
    },
    {
      "cell_type": "code",
      "metadata": {
        "colab": {
          "base_uri": "https://localhost:8080/"
        },
        "id": "h-raekePEt5V",
        "outputId": "b28fad32-6d47-4229-dcbb-d73ada5413b9"
      },
      "source": [
        "kmeans = KMeans(n_clusters=3, random_state=0).fit(X)\n",
        "print(kmeans.cluster_centers_)\n"
      ],
      "execution_count": null,
      "outputs": [
        {
          "output_type": "stream",
          "text": [
            "[[33.25        0.365      11.5425    ]\n",
            " [42.16666667  0.12       17.39333333]\n",
            " [27.2         0.132      16.13      ]]\n"
          ],
          "name": "stdout"
        }
      ]
    },
    {
      "cell_type": "code",
      "metadata": {
        "colab": {
          "base_uri": "https://localhost:8080/"
        },
        "id": "tylKoxC_Et83",
        "outputId": "b4ce4cf3-c654-4bd4-f530-67e571c15323"
      },
      "source": [
        "print(kmeans.labels_)"
      ],
      "execution_count": null,
      "outputs": [
        {
          "output_type": "stream",
          "text": [
            "[2 1 2 2 1 1 1 2 1 1 0 0 0 0 2]\n"
          ],
          "name": "stdout"
        }
      ]
    },
    {
      "cell_type": "code",
      "metadata": {
        "colab": {
          "base_uri": "https://localhost:8080/",
          "height": 281
        },
        "id": "b17b7-opFE9W",
        "outputId": "a8bc5233-36e8-40a4-e70e-54f6627973a7"
      },
      "source": [
        "import matplotlib.pyplot as plt\n",
        "\n",
        "\n",
        "plt.scatter(X[kmeans.labels_ == 0, 0], X[kmeans.labels_ == 0,1],s = 100, c='forestgreen', label = 'Cluster 1')\n",
        "\n",
        "plt.scatter(X[kmeans.labels_ == 1, 0], X[kmeans.labels_ == 1,1],s = 100, c='violet', label = 'Cluster 2')\n",
        "\n",
        "plt.scatter(X[kmeans.labels_ == 2, 0], X[kmeans.labels_ == 2,1],s = 100, c='cyan', label = 'Cluster 3')\n",
        "\n",
        "\n",
        "plt.scatter(kmeans.cluster_centers_[:, 0], kmeans.cluster_centers_[:, 1],s = 150, c='red', marker='x', cmap='ist_rainbow')\n",
        "plt.title('Data points and cluster centroids')\n",
        "plt.show()\n"
      ],
      "execution_count": null,
      "outputs": [
        {
          "output_type": "display_data",
          "data": {
            "image/png": "[encoded data removed]",
            "text/plain": [
              "<Figure size 432x288 with 1 Axes>"
            ]
          },
          "metadata": {
            "tags": [],
            "needs_background": "light"
          }
        }
      ]
    },
    {
      "cell_type": "code",
      "metadata": {
        "colab": {
          "base_uri": "https://localhost:8080/",
          "height": 511
        },
        "id": "YEr692YSFE_q",
        "outputId": "4481a808-312e-4cda-a3ed-e9eadc0176ac"
      },
      "source": [
        "stars_1=pd.read_csv('/content/Stars_1.csv')\n",
        "stars_1\n"
      ],
      "execution_count": null,
      "outputs": [
        {
          "output_type": "execute_result",
          "data": {
            "text/html": [
              "<div>\n",
              "<style scoped>\n",
              "    .dataframe tbody tr th:only-of-type {\n",
              "        vertical-align: middle;\n",
              "    }\n",
              "\n",
              "    .dataframe tbody tr th {\n",
              "        vertical-align: top;\n",
              "    }\n",
              "\n",
              "    .dataframe thead th {\n",
              "        text-align: right;\n",
              "    }\n",
              "</style>\n",
              "<table border=\"1\" class=\"dataframe\">\n",
              "  <thead>\n",
              "    <tr style=\"text-align: right;\">\n",
              "      <th></th>\n",
              "      <th>Temperature (K)</th>\n",
              "      <th>Radius(R/Ro)</th>\n",
              "      <th>Luminosity(L/Lo)</th>\n",
              "      <th>Star type</th>\n",
              "    </tr>\n",
              "  </thead>\n",
              "  <tbody>\n",
              "    <tr>\n",
              "      <th>0</th>\n",
              "      <td>30</td>\n",
              "      <td>0.17</td>\n",
              "      <td>16.12</td>\n",
              "      <td>R/B Dwarf</td>\n",
              "    </tr>\n",
              "    <tr>\n",
              "      <th>1</th>\n",
              "      <td>28</td>\n",
              "      <td>0.16</td>\n",
              "      <td>16.65</td>\n",
              "      <td>R/B Dwarf</td>\n",
              "    </tr>\n",
              "    <tr>\n",
              "      <th>2</th>\n",
              "      <td>39</td>\n",
              "      <td>0.10</td>\n",
              "      <td>20.06</td>\n",
              "      <td>R/B Dwarf</td>\n",
              "    </tr>\n",
              "    <tr>\n",
              "      <th>3</th>\n",
              "      <td>25</td>\n",
              "      <td>0.14</td>\n",
              "      <td>11.78</td>\n",
              "      <td>R/B Dwarf</td>\n",
              "    </tr>\n",
              "    <tr>\n",
              "      <th>4</th>\n",
              "      <td>40</td>\n",
              "      <td>0.11</td>\n",
              "      <td>16.98</td>\n",
              "      <td>R/B Dwarf</td>\n",
              "    </tr>\n",
              "    <tr>\n",
              "      <th>5</th>\n",
              "      <td>42</td>\n",
              "      <td>0.15</td>\n",
              "      <td>16.60</td>\n",
              "      <td>SuperGiants</td>\n",
              "    </tr>\n",
              "    <tr>\n",
              "      <th>6</th>\n",
              "      <td>37</td>\n",
              "      <td>0.12</td>\n",
              "      <td>17.22</td>\n",
              "      <td>SuperGiants</td>\n",
              "    </tr>\n",
              "    <tr>\n",
              "      <th>7</th>\n",
              "      <td>27</td>\n",
              "      <td>0.09</td>\n",
              "      <td>17.40</td>\n",
              "      <td>SuperGiants</td>\n",
              "    </tr>\n",
              "    <tr>\n",
              "      <th>8</th>\n",
              "      <td>32</td>\n",
              "      <td>0.39</td>\n",
              "      <td>10.48</td>\n",
              "      <td>SuperGiants</td>\n",
              "    </tr>\n",
              "    <tr>\n",
              "      <th>9</th>\n",
              "      <td>50</td>\n",
              "      <td>0.11</td>\n",
              "      <td>17.45</td>\n",
              "      <td>SuperGiants</td>\n",
              "    </tr>\n",
              "    <tr>\n",
              "      <th>10</th>\n",
              "      <td>45</td>\n",
              "      <td>0.13</td>\n",
              "      <td>16.05</td>\n",
              "      <td>HyperGiants</td>\n",
              "    </tr>\n",
              "    <tr>\n",
              "      <th>11</th>\n",
              "      <td>36</td>\n",
              "      <td>0.51</td>\n",
              "      <td>10.69</td>\n",
              "      <td>HyperGiants</td>\n",
              "    </tr>\n",
              "    <tr>\n",
              "      <th>12</th>\n",
              "      <td>31</td>\n",
              "      <td>0.37</td>\n",
              "      <td>11.79</td>\n",
              "      <td>HyperGiants</td>\n",
              "    </tr>\n",
              "    <tr>\n",
              "      <th>13</th>\n",
              "      <td>34</td>\n",
              "      <td>0.19</td>\n",
              "      <td>13.21</td>\n",
              "      <td>HyperGiants</td>\n",
              "    </tr>\n",
              "    <tr>\n",
              "      <th>14</th>\n",
              "      <td>26</td>\n",
              "      <td>0.10</td>\n",
              "      <td>18.70</td>\n",
              "      <td>HyperGiants</td>\n",
              "    </tr>\n",
              "  </tbody>\n",
              "</table>\n",
              "</div>"
            ],
            "text/plain": [
              "    Temperature (K)  Radius(R/Ro)  Luminosity(L/Lo)    Star type\n",
              "0                30          0.17             16.12    R/B Dwarf\n",
              "1                28          0.16             16.65    R/B Dwarf\n",
              "2                39          0.10             20.06    R/B Dwarf\n",
              "3                25          0.14             11.78    R/B Dwarf\n",
              "4                40          0.11             16.98    R/B Dwarf\n",
              "5                42          0.15             16.60  SuperGiants\n",
              "6                37          0.12             17.22  SuperGiants\n",
              "7                27          0.09             17.40  SuperGiants\n",
              "8                32          0.39             10.48  SuperGiants\n",
              "9                50          0.11             17.45  SuperGiants\n",
              "10               45          0.13             16.05  HyperGiants\n",
              "11               36          0.51             10.69  HyperGiants\n",
              "12               31          0.37             11.79  HyperGiants\n",
              "13               34          0.19             13.21  HyperGiants\n",
              "14               26          0.10             18.70  HyperGiants"
            ]
          },
          "metadata": {
            "tags": []
          },
          "execution_count": 7
        }
      ]
    },
    {
      "cell_type": "code",
      "metadata": {
        "colab": {
          "base_uri": "https://localhost:8080/"
        },
        "id": "ITwkSjvxFFDK",
        "outputId": "6e75ce91-e27c-4202-ecc2-bf1de3f034e0"
      },
      "source": [
        "Y = stars_1.iloc[:,0:3].values\n",
        "Y\n"
      ],
      "execution_count": null,
      "outputs": [
        {
          "output_type": "execute_result",
          "data": {
            "text/plain": [
              "array([[30.  ,  0.17, 16.12],\n",
              "       [28.  ,  0.16, 16.65],\n",
              "       [39.  ,  0.1 , 20.06],\n",
              "       [25.  ,  0.14, 11.78],\n",
              "       [40.  ,  0.11, 16.98],\n",
              "       [42.  ,  0.15, 16.6 ],\n",
              "       [37.  ,  0.12, 17.22],\n",
              "       [27.  ,  0.09, 17.4 ],\n",
              "       [32.  ,  0.39, 10.48],\n",
              "       [50.  ,  0.11, 17.45],\n",
              "       [45.  ,  0.13, 16.05],\n",
              "       [36.  ,  0.51, 10.69],\n",
              "       [31.  ,  0.37, 11.79],\n",
              "       [34.  ,  0.19, 13.21],\n",
              "       [26.  ,  0.1 , 18.7 ]])"
            ]
          },
          "metadata": {
            "tags": []
          },
          "execution_count": 8
        }
      ]
    },
    {
      "cell_type": "code",
      "metadata": {
        "id": "4dSj9n1sFhKD"
      },
      "source": [
        "kmeans_1 = KMeans(n_clusters=3, random_state=0).fit(Y)"
      ],
      "execution_count": null,
      "outputs": []
    },
    {
      "cell_type": "code",
      "metadata": {
        "colab": {
          "base_uri": "https://localhost:8080/"
        },
        "id": "G55LA5LSFhNo",
        "outputId": "49adf3af-e01f-4785-d886-db6165743747"
      },
      "source": [
        "print(kmeans_1.labels_)"
      ],
      "execution_count": null,
      "outputs": [
        {
          "output_type": "stream",
          "text": [
            "[2 2 1 2 1 1 1 2 0 1 1 0 0 0 2]\n"
          ],
          "name": "stdout"
        }
      ]
    }
  ]
}